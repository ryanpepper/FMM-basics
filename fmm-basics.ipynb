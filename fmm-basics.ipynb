{
 "cells": [
  {
   "cell_type": "code",
   "execution_count": 62,
   "metadata": {
    "collapsed": false
   },
   "outputs": [],
   "source": [
    "import numpy as np\n",
    "import matplotlib.pyplot as plt\n",
    "from __future__ import division\n",
    "%matplotlib inline"
   ]
  },
  {
   "cell_type": "markdown",
   "metadata": {},
   "source": [
    "Initialise 100 particles at random positions:"
   ]
  },
  {
   "cell_type": "code",
   "execution_count": 63,
   "metadata": {
    "collapsed": false
   },
   "outputs": [],
   "source": [
    "r = np.random.uniform(0, 100, (100, 2))"
   ]
  },
  {
   "cell_type": "code",
   "execution_count": 64,
   "metadata": {
    "collapsed": false
   },
   "outputs": [],
   "source": [
    "class point():\n",
    "    def __init__(self, coords):\n",
    "        self.coords = np.array(coords)\n",
    "    def distance(self, other):\n",
    "        return np.linalg.norm(self.coords-other.coords)"
   ]
  },
  {
   "cell_type": "code",
   "execution_count": 65,
   "metadata": {
    "collapsed": false
   },
   "outputs": [],
   "source": [
    "class particle(point):\n",
    "    def __init__(self, coords, m=1.0):\n",
    "        point.__init__(self, coords)\n",
    "        self.m = m\n",
    "        self.phi = 0.0"
   ]
  },
  {
   "cell_type": "markdown",
   "metadata": {},
   "source": [
    "Want to evaluate the pairwise potential \n",
    "\\begin{equation}\n",
    "V(x_i, x_j) = \\frac{1}{\\left|x_i - x_j\\right|}\n",
    "\\end{equation}\n",
    "\n",
    "Create list of particles with random positions:"
   ]
  },
  {
   "cell_type": "code",
   "execution_count": 74,
   "metadata": {
    "collapsed": false
   },
   "outputs": [],
   "source": [
    "particles = [particle(ri) for ri in r]"
   ]
  },
  {
   "cell_type": "code",
   "execution_count": 75,
   "metadata": {
    "collapsed": true
   },
   "outputs": [],
   "source": [
    "def direct_potential(particles):\n",
    "    for i, part in enumerate(particles):\n",
    "        for source in (particles[:i] + particles[i+1:]):\n",
    "            part.phi += source.m / part.distance(source)\n",
    "\n",
    "def plot_potentials(particles):\n",
    "    potential = [part.phi for part in particles]\n",
    "    x = [part.coords[0] for part in particles]\n",
    "    y = [part.coords[1] for part in particles]\n",
    "    plt.scatter(x, y, potential)\n",
    "    "
   ]
  },
  {
   "cell_type": "code",
   "execution_count": 76,
   "metadata": {
    "collapsed": false
   },
   "outputs": [],
   "source": [
    "direct_potential(particles)"
   ]
  },
  {
   "cell_type": "code",
   "execution_count": 77,
   "metadata": {
    "collapsed": false,
    "scrolled": false
   },
   "outputs": [
    {
     "data": {
      "image/png": "[encoded data removed]",
      "text/plain": [
       "<matplotlib.figure.Figure at 0x7efddf634a10>"
      ]
     },
     "metadata": {},
     "output_type": "display_data"
    }
   ],
   "source": [
    "plot_potentials(particles)"
   ]
  },
  {
   "cell_type": "code",
   "execution_count": null,
   "metadata": {
    "collapsed": true
   },
   "outputs": [],
   "source": []
  }
 ],
 "metadata": {
  "kernelspec": {
   "display_name": "Python 2",
   "language": "python",
   "name": "python2"
  },
  "language_info": {
   "codemirror_mode": {
    "name": "ipython",
    "version": 2
   },
   "file_extension": ".py",
   "mimetype": "text/x-python",
   "name": "python",
   "nbconvert_exporter": "python",
   "pygments_lexer": "ipython2",
   "version": "2.7.12"
  }
 },
 "nbformat": 4,
 "nbformat_minor": 1
}
